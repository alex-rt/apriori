{
 "cells": [
  {
   "cell_type": "code",
   "execution_count": 2,
   "metadata": {},
   "outputs": [],
   "source": [
    "import numpy as np\n",
    "#from utils import *"
   ]
  },
  {
   "cell_type": "code",
   "execution_count": 3,
   "metadata": {},
   "outputs": [],
   "source": [
    "def char_range(c1, c2):\n",
    "    for c in range(ord(c1), ord(c2)+1):\n",
    "        yield chr(c)"
   ]
  },
  {
   "cell_type": "code",
   "execution_count": 4,
   "metadata": {},
   "outputs": [
    {
     "name": "stdout",
     "output_type": "stream",
     "text": [
      "['A', 'B', 'C', 'D', 'E']\n"
     ]
    }
   ],
   "source": [
    "order = [str(i) for i in char_range('A','E')]\n",
    "print(order)"
   ]
  },
  {
   "cell_type": "code",
   "execution_count": null,
   "metadata": {},
   "outputs": [],
   "source": [
    "\"\"\"def load_transactions(path_to_data, order):\n",
    "    T = []\n",
    "    with open(path_to_data, 'r') as fid:\n",
    "        for lines in fid:\n",
    "            str_line = list(lines.strip().split(','))\n",
    "            _t = list(np.unique(str_line))\n",
    "            _t.sort(key= lambda x: order.index(x))\"\"\""
   ]
  },
  {
   "cell_type": "code",
   "execution_count": null,
   "metadata": {},
   "outputs": [],
   "source": [
    "#path_to_data = \"C:\\\\Users\\\\alexr\\\\data.txt\"\n",
    "#Transactionss = load_transactions(path_to_data, order)"
   ]
  },
  {
   "cell_type": "code",
   "execution_count": 5,
   "metadata": {},
   "outputs": [],
   "source": [
    "T = [['A', 'C', 'D'],\n",
    "    ['B', 'C', 'E'],\n",
    "  ['A', 'B', 'C', 'E'],\n",
    "  ['B', 'E']]"
   ]
  },
  {
   "cell_type": "code",
   "execution_count": 6,
   "metadata": {},
   "outputs": [],
   "source": [
    "#INITIIALIZATION CREATE C1\n",
    "C = {}\n",
    "L = {}\n",
    "itemset_size = 1\n",
    "Discarded = {itemset_size : []}\n",
    "C.update({itemset_size : [ [f] for f in order]})"
   ]
  },
  {
   "cell_type": "code",
   "execution_count": 7,
   "metadata": {},
   "outputs": [
    {
     "data": {
      "text/plain": [
       "{1: [['A'], ['B'], ['C'], ['D'], ['E']]}"
      ]
     },
     "execution_count": 7,
     "metadata": {},
     "output_type": "execute_result"
    }
   ],
   "source": [
    "C"
   ]
  },
  {
   "cell_type": "code",
   "execution_count": 8,
   "metadata": {},
   "outputs": [
    {
     "data": {
      "text/plain": [
       "1"
      ]
     },
     "execution_count": 8,
     "metadata": {},
     "output_type": "execute_result"
    }
   ],
   "source": [
    "len(Discarded.keys())"
   ]
  },
  {
   "cell_type": "code",
   "execution_count": 9,
   "metadata": {},
   "outputs": [],
   "source": [
    "#CREATE L1\n"
   ]
  },
  {
   "cell_type": "code",
   "execution_count": 16,
   "metadata": {},
   "outputs": [],
   "source": [
    "supp_count_L = {}\n",
    "min_support = 1/2\n",
    "\n",
    "f, sup, new_discarded = get_frequent(C[itemset_size], T, min_support, Discarded)\n",
    "Discarded.update({itemset_size : new_discarded})\n",
    "L.update({itemset_size : f})\n",
    "supp_count_L.update({itemset_size : sup})\n"
   ]
  },
  {
   "cell_type": "code",
   "execution_count": 17,
   "metadata": {},
   "outputs": [
    {
     "name": "stdout",
     "output_type": "stream",
     "text": [
      "Itemset | Frequency\n",
      "['A'] | 2\n",
      "\n",
      "\n",
      "\n"
     ]
    }
   ],
   "source": [
    "print_table(L[1], supp_count_L[1])"
   ]
  },
  {
   "cell_type": "code",
   "execution_count": 23,
   "metadata": {},
   "outputs": [
    {
     "name": "stdout",
     "output_type": "stream",
     "text": [
      "{1: [['A'], ['B'], ['C'], ['D'], ['E']]}\n",
      "{1: [[2], [3], [3], [1], [3]]}\n"
     ]
    }
   ],
   "source": [
    "print(L)\n",
    "print(supp_count_L)"
   ]
  },
  {
   "cell_type": "code",
   "execution_count": 22,
   "metadata": {},
   "outputs": [],
   "source": [
    "L = {1: [['A'],['B'], ['C'], ['D'],['E']]}\n",
    "supp_count_L = {1: [[2],[3], [3], [1],[3]]}\n"
   ]
  },
  {
   "cell_type": "code",
   "execution_count": 29,
   "metadata": {},
   "outputs": [
    {
     "name": "stdout",
     "output_type": "stream",
     "text": [
      "table C2: \n",
      "\n",
      "Itemset | Frequency\n",
      "['A', 'B'] | 1\n",
      "['A', 'C'] | 2\n",
      "['A', 'D'] | 1\n",
      "['A', 'E'] | 1\n",
      "['B', 'C'] | 2\n",
      "['B', 'D'] | 0\n",
      "['B', 'E'] | 3\n",
      "['C', 'D'] | 1\n",
      "['C', 'E'] | 2\n",
      "['D', 'E'] | 0\n",
      "\n",
      "\n",
      "\n"
     ]
    }
   ],
   "source": [
    "#C[K]\n",
    "k = itemset_size +1\n",
    "convergence = False\n",
    "while not convergence:\n",
    "    C.update({k: join_set_itemsets(L[k-1], order)})\n",
    "    print(\"table C{}: \\n\".format(k))\n",
    "    print_table(C[k], [count_occurrences(it, T) for it in C[k]])\n",
    "    f, sup, new_discarded = get_frequent(C[k], T, min_support, Discarded)\n",
    "    Discarded.update({k : new_discarded})\n",
    "    L.update({k : f})\n",
    "    supp_count_L.update({k : sup})\n",
    "    if len(L[k]) == 0:\n",
    "        convergence = True\n",
    "    else: \n",
    "        print(\"table L{}: \\n\".format(k))\n",
    "        print_table(L[k], supp_count_L[k])\n",
    "    k+=1\n",
    "    "
   ]
  },
  {
   "cell_type": "code",
   "execution_count": 31,
   "metadata": {},
   "outputs": [
    {
     "name": "stdout",
     "output_type": "stream",
     "text": [
      "table L3: \n",
      "\n"
     ]
    },
    {
     "ename": "KeyError",
     "evalue": "3",
     "output_type": "error",
     "traceback": [
      "\u001b[1;31m---------------------------------------------------------------------------\u001b[0m",
      "\u001b[1;31mKeyError\u001b[0m                                  Traceback (most recent call last)",
      "\u001b[1;32m<ipython-input-31-1dfffa3ce17a>\u001b[0m in \u001b[0;36m<module>\u001b[1;34m\u001b[0m\n\u001b[0;32m      1\u001b[0m \u001b[0mprint\u001b[0m\u001b[1;33m(\u001b[0m\u001b[1;34m\"table L{}: \\n\"\u001b[0m\u001b[1;33m.\u001b[0m\u001b[0mformat\u001b[0m\u001b[1;33m(\u001b[0m\u001b[0mk\u001b[0m\u001b[1;33m)\u001b[0m\u001b[1;33m)\u001b[0m\u001b[1;33m\u001b[0m\u001b[1;33m\u001b[0m\u001b[0m\n\u001b[1;32m----> 2\u001b[1;33m \u001b[0mprint_table\u001b[0m\u001b[1;33m(\u001b[0m\u001b[0mL\u001b[0m\u001b[1;33m[\u001b[0m\u001b[0mk\u001b[0m\u001b[1;33m]\u001b[0m\u001b[1;33m,\u001b[0m \u001b[0msupp_count_L\u001b[0m\u001b[1;33m[\u001b[0m\u001b[0mk\u001b[0m\u001b[1;33m]\u001b[0m\u001b[1;33m)\u001b[0m\u001b[1;33m\u001b[0m\u001b[1;33m\u001b[0m\u001b[0m\n\u001b[0m",
      "\u001b[1;31mKeyError\u001b[0m: 3"
     ]
    }
   ],
   "source": [
    "print(\"table L{}: \\n\".format(k))\n",
    "print_table(L[k], supp_count_L[k])"
   ]
  },
  {
   "cell_type": "code",
   "execution_count": 11,
   "metadata": {},
   "outputs": [],
   "source": [
    "def get_frequent(itemsets, Transactions, min_support, prev_discarded):\n",
    "    L = []\n",
    "    supp_count = []\n",
    "    new_discarded = []\n",
    "    \n",
    "    k = len(prev_discarded.keys())\n",
    "    \n",
    "    for s in range(len(itemsets)):\n",
    "        discarded_before = False\n",
    "        if k > 0:\n",
    "            for it in prev_discarded[k]:\n",
    "                if set(it).issubset(set(itemsets[s])):\n",
    "                    discarded_before = True\n",
    "                    break\n",
    "        if not discarded_before:\n",
    "            count = count_occurrences(itemsets[s], Transactions)\n",
    "            if count/len(Transactions) >= min_support:\n",
    "                L.append(itemsets[s])\n",
    "                supp_count.append(count)\n",
    "            else:\n",
    "                new_discarded.append(itemsets[s])\n",
    "                \n",
    "        return L, supp_count, new_discarded"
   ]
  },
  {
   "cell_type": "code",
   "execution_count": 12,
   "metadata": {},
   "outputs": [],
   "source": [
    "def count_occurrences(itemset, Transactions):\n",
    "    count = 0\n",
    "    for i in range(len(Transactions)):\n",
    "        if set(itemset).issubset(set(Transactions[i])):\n",
    "            count += 1\n",
    "    return count"
   ]
  },
  {
   "cell_type": "code",
   "execution_count": 25,
   "metadata": {},
   "outputs": [],
   "source": [
    "def join_two_itemsets(it1, it2, order):\n",
    "    it1.sort(key=lambda x: order.index(x))\n",
    "    it2.sort(key=lambda x: order.index(x))\n",
    "    \n",
    "    for i in range(len(it1)-1):\n",
    "        if it1[i] != it2[i]:\n",
    "            return[]\n",
    "        \n",
    "    if order.index(it1[-1]) < order.index(it2[-1]):\n",
    "        return it1+[it2[-1]]\n",
    "    \n",
    "    return []"
   ]
  },
  {
   "cell_type": "code",
   "execution_count": 14,
   "metadata": {},
   "outputs": [],
   "source": [
    "def join_set_itemsets(set_of_its, order):\n",
    "    C =[]\n",
    "    for i in range(len(set_of_its)):\n",
    "        for j in range(i+1, len(set_of_its)):\n",
    "            it_out = join_two_itemsets(set_of_its[i], set_of_its[j], order)\n",
    "            if len(it_out) > 0:\n",
    "                C.append(it_out)\n",
    "    return C"
   ]
  },
  {
   "cell_type": "code",
   "execution_count": 15,
   "metadata": {},
   "outputs": [],
   "source": [
    "def print_table(T, supp_count):\n",
    "    print(\"Itemset | Frequency\")\n",
    "    for k in range(len(T)):\n",
    "        print(\"{} | {}\".format(T[k], supp_count[k]))\n",
    "    print(\"\\n\\n\")"
   ]
  },
  {
   "cell_type": "code",
   "execution_count": null,
   "metadata": {},
   "outputs": [],
   "source": []
  }
 ],
 "metadata": {
  "kernelspec": {
   "display_name": "Python 3",
   "language": "python",
   "name": "python3"
  },
  "language_info": {
   "codemirror_mode": {
    "name": "ipython",
    "version": 3
   },
   "file_extension": ".py",
   "mimetype": "text/x-python",
   "name": "python",
   "nbconvert_exporter": "python",
   "pygments_lexer": "ipython3",
   "version": "3.7.5"
  }
 },
 "nbformat": 4,
 "nbformat_minor": 2
}
